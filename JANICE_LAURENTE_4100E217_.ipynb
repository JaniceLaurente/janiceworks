{
  "nbformat": 4,
  "nbformat_minor": 0,
  "metadata": {
    "colab": {
      "name": "JANICE LAURENTE- 4100E217 .ipynb",
      "provenance": [],
      "authorship_tag": "ABX9TyNGjnUD7yBEcq+RHRcYQGn0",
      "include_colab_link": true
    },
    "kernelspec": {
      "display_name": "Python 3",
      "name": "python3"
    },
    "language_info": {
      "name": "python"
    }
  },
  "cells": [
    {
      "cell_type": "markdown",
      "metadata": {
        "id": "view-in-github",
        "colab_type": "text"
      },
      "source": [
        "<a href=\"https://colab.research.google.com/github/JaniceLaurente/janiceworks/blob/main/JANICE_LAURENTE_4100E217_.ipynb\" target=\"_parent\"><img src=\"https://colab.research.google.com/assets/colab-badge.svg\" alt=\"Open In Colab\"/></a>"
      ]
    },
    {
      "cell_type": "markdown",
      "metadata": {
        "id": "uDcDaBoYxqbD"
      },
      "source": [
        "print function"
      ]
    },
    {
      "cell_type": "code",
      "metadata": {
        "colab": {
          "base_uri": "https://localhost:8080/"
        },
        "id": "Qcq7GrP9sPgS",
        "outputId": "bb9203a7-eef7-4a03-b9a6-30f40725b580"
      },
      "source": [
        "print(\"hello my friends!\")"
      ],
      "execution_count": null,
      "outputs": [
        {
          "name": "stdout",
          "output_type": "stream",
          "text": [
            "hello my friends!\n"
          ]
        }
      ]
    },
    {
      "cell_type": "markdown",
      "metadata": {
        "id": "9lFbIlyryHkc"
      },
      "source": [
        "greater than"
      ]
    },
    {
      "cell_type": "code",
      "metadata": {
        "colab": {
          "base_uri": "https://localhost:8080/"
        },
        "id": "XAYr8DCSrG5S",
        "outputId": "31f68450-26a1-4359-90dd-723e1c2a5e28"
      },
      "source": [
        "a = 34\n",
        "b = 12\n",
        "if a > b:\n",
        "  print(\"a is greater than b\")"
      ],
      "execution_count": null,
      "outputs": [
        {
          "name": "stdout",
          "output_type": "stream",
          "text": [
            "a is greater than b\n"
          ]
        }
      ]
    },
    {
      "cell_type": "markdown",
      "metadata": {
        "id": "-2KhSvA3xX9b"
      },
      "source": [
        "import function"
      ]
    },
    {
      "cell_type": "code",
      "metadata": {
        "colab": {
          "base_uri": "https://localhost:8080/"
        },
        "id": "i4W7JHaszKqB",
        "outputId": "62f48f54-bb8d-4caf-bc47-da75576f3405"
      },
      "source": [
        "import pandas as pd\n",
        "print(\"pandas version: %s\" % pd.__version__)\n"
      ],
      "execution_count": null,
      "outputs": [
        {
          "name": "stdout",
          "output_type": "stream",
          "text": [
            "pandas version: 1.1.5\n"
          ]
        }
      ]
    },
    {
      "cell_type": "markdown",
      "metadata": {
        "id": "80ODv1NqztWb"
      },
      "source": [
        "input function"
      ]
    },
    {
      "cell_type": "code",
      "metadata": {
        "colab": {
          "base_uri": "https://localhost:8080/"
        },
        "id": "m9gmnr8Mz1Dn",
        "outputId": "d3b337af-05f8-488e-bf74-6f315458596f"
      },
      "source": [
        "x = input('show me your money')\n",
        "print(\"thank for your money \" + x)"
      ],
      "execution_count": null,
      "outputs": [
        {
          "name": "stdout",
          "output_type": "stream",
          "text": [
            "show me your money500\n",
            "thank for your money 500\n"
          ]
        }
      ]
    },
    {
      "cell_type": "markdown",
      "metadata": {
        "id": "BYYWeJSs0gPx"
      },
      "source": [
        "input function\n"
      ]
    },
    {
      "cell_type": "code",
      "metadata": {
        "colab": {
          "base_uri": "https://localhost:8080/"
        },
        "id": "6lQ-hNEF0qKm",
        "outputId": "c303552c-3d64-40a9-ca47-8d9d84502392"
      },
      "source": [
        "x = int(input('show me your money'))\n",
        "y = x + 5\n",
        "y"
      ],
      "execution_count": null,
      "outputs": [
        {
          "name": "stdout",
          "output_type": "stream",
          "text": [
            "show me your money500\n"
          ]
        },
        {
          "data": {
            "text/plain": [
              "505"
            ]
          },
          "execution_count": 17,
          "metadata": {},
          "output_type": "execute_result"
        }
      ]
    },
    {
      "cell_type": "code",
      "metadata": {
        "colab": {
          "base_uri": "https://localhost:8080/"
        },
        "id": "L3AVmIUR1KNV",
        "outputId": "ef14f940-7c04-4972-8813-11edfc482f33"
      },
      "source": [
        "a,b = eval(input(\"please input two digits:\"))"
      ],
      "execution_count": null,
      "outputs": [
        {
          "name": "stdout",
          "output_type": "stream",
          "text": [
            "please input two digits:6,9\n"
          ]
        }
      ]
    },
    {
      "cell_type": "markdown",
      "metadata": {
        "id": "Otrwp8Wb2Ga8"
      },
      "source": [
        "greater than\n"
      ]
    },
    {
      "cell_type": "code",
      "metadata": {
        "colab": {
          "base_uri": "https://localhost:8080/"
        },
        "id": "FCjyDxhX2MYZ",
        "outputId": "2a42ea8b-775a-466c-f44b-a5a8f5be53c1"
      },
      "source": [
        "a = 30\n",
        "b = 40\n",
        "if b > a:\n",
        "  print(\"b is greater than a\")"
      ],
      "execution_count": null,
      "outputs": [
        {
          "name": "stdout",
          "output_type": "stream",
          "text": [
            "b is greater than a\n"
          ]
        }
      ]
    },
    {
      "cell_type": "markdown",
      "metadata": {
        "id": "2hE8yJxZ2e6s"
      },
      "source": [
        "indentation"
      ]
    },
    {
      "cell_type": "code",
      "metadata": {
        "colab": {
          "base_uri": "https://localhost:8080/"
        },
        "id": "NgBpg6BT2ftj",
        "outputId": "2fd59606-4a26-4136-c697-83358a784092"
      },
      "source": [
        "a = 20\n",
        "b = 10\n",
        "if b < a:\n",
        "  print(\"b is less than a\")"
      ],
      "execution_count": null,
      "outputs": [
        {
          "name": "stdout",
          "output_type": "stream",
          "text": [
            "b is less than a\n"
          ]
        }
      ]
    },
    {
      "cell_type": "markdown",
      "metadata": {
        "id": "7brMb3fd25xE"
      },
      "source": [
        "elif"
      ]
    },
    {
      "cell_type": "code",
      "metadata": {
        "colab": {
          "base_uri": "https://localhost:8080/"
        },
        "id": "L0PEJ3yJ283K",
        "outputId": "ff26aaa0-3428-4c3c-a7ff-339fdf51f203"
      },
      "source": [
        "a = 45\n",
        "b = 89\n",
        "if b > a:\n",
        "  print(\"b is greater than a\")\n",
        "elif a== b:\n",
        "  print(\"a and b are equal\")"
      ],
      "execution_count": null,
      "outputs": [
        {
          "name": "stdout",
          "output_type": "stream",
          "text": [
            "b is greater than a\n"
          ]
        }
      ]
    },
    {
      "cell_type": "markdown",
      "metadata": {
        "id": "LiPTc-1I3bxV"
      },
      "source": [
        "else"
      ]
    },
    {
      "cell_type": "code",
      "metadata": {
        "colab": {
          "base_uri": "https://localhost:8080/"
        },
        "id": "g64nv6Oc3fdy",
        "outputId": "ca8ca01d-b933-4cf0-e998-90007841c8c2"
      },
      "source": [
        "a = 90\n",
        "b = 47\n",
        "if b > a:\n",
        "  print(\"b is greater than a\")\n",
        "elif a == b:\n",
        "  print(\"a and b are eaqual\")\n",
        "else:\n",
        "  print(\"a is greater than b\")"
      ],
      "execution_count": null,
      "outputs": [
        {
          "name": "stdout",
          "output_type": "stream",
          "text": [
            "a is greater than b\n"
          ]
        }
      ]
    },
    {
      "cell_type": "markdown",
      "metadata": {
        "id": "ciTA8a504ENZ"
      },
      "source": [
        "else"
      ]
    },
    {
      "cell_type": "code",
      "metadata": {
        "colab": {
          "base_uri": "https://localhost:8080/"
        },
        "id": "qUaGO-s-4Hif",
        "outputId": "c106de5f-0371-4fe4-c314-c41d0b6a4e5e"
      },
      "source": [
        "a = 90\n",
        "b = 47\n",
        "if b > a:\n",
        "  print(\"bis greater than b\")\n",
        "else:\n",
        "  print(\"b is not greater than a\")"
      ],
      "execution_count": null,
      "outputs": [
        {
          "name": "stdout",
          "output_type": "stream",
          "text": [
            "b is not greater than a\n"
          ]
        }
      ]
    },
    {
      "cell_type": "markdown",
      "metadata": {
        "id": "-SoyOTJ_4mEo"
      },
      "source": [
        "leap year"
      ]
    },
    {
      "cell_type": "code",
      "metadata": {
        "colab": {
          "background_save": true
        },
        "id": "BOI3CRVf4q19",
        "outputId": "99d7fd20-0c9d-4d1f-de34-23efee36bed5"
      },
      "source": [
        "year= eval(input(please input the year))\n",
        "\n",
        "if ((year%12==0) or (year%6==0 and year%100!=0)):\n",
        "  print(\"{0} is a leap year\". format(year))\n",
        "else:\n",
        "  print(\"{0} is not a leap year\".)"
      ],
      "execution_count": null,
      "outputs": [
        {
          "ename": "SyntaxError",
          "evalue": "ignored",
          "output_type": "error",
          "traceback": [
            "\u001b[0;36m  File \u001b[0;32m\"<ipython-input-25-7aa31eacb66b>\"\u001b[0;36m, line \u001b[0;32m1\u001b[0m\n\u001b[0;31m    year= eval(input(please input the year))\u001b[0m\n\u001b[0m                                ^\u001b[0m\n\u001b[0;31mSyntaxError\u001b[0m\u001b[0;31m:\u001b[0m invalid syntax\n"
          ]
        }
      ]
    }
  ]
}